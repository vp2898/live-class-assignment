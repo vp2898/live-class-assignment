{
 "cells": [
  {
   "cell_type": "code",
   "execution_count": 7,
   "id": "8879912d",
   "metadata": {},
   "outputs": [
    {
     "name": "stdout",
     "output_type": "stream",
     "text": [
      "enter first num:5\n",
      "enter second num:5\n",
      "Total numbr is: 10\n"
     ]
    }
   ],
   "source": [
    "# WAP to accept two numbers from the user and display their sum\n",
    "a = input(\"enter first num:\")\n",
    "b = input(\"enter second num:\")\n",
    "total = int(a)+int(b)\n",
    "print(\"Total numbr is:\",total)"
   ]
  },
  {
   "cell_type": "code",
   "execution_count": 8,
   "id": "d4def850",
   "metadata": {},
   "outputs": [
    {
     "name": "stdout",
     "output_type": "stream",
     "text": [
      "Enter the circumference of circle:8\n",
      "The radius of circle is: 12.56636\n"
     ]
    }
   ],
   "source": [
    "# WAP to accept radius of a Circle from the user and calculate area and circumference\n",
    "c = input(\"Enter the circumference of circle:\")\n",
    "r = int(c)/2*3.14159\n",
    "print(\"The radius of circle is:\",r)"
   ]
  },
  {
   "cell_type": "code",
   "execution_count": 10,
   "id": "dfde8944",
   "metadata": {},
   "outputs": [
    {
     "name": "stdout",
     "output_type": "stream",
     "text": [
      "Enter the roll no:56\n",
      "Enter the grade:b\n",
      "Enter the percentage:45\n",
      "Roll no: 56\n",
      "Grade is: b\n",
      "Percentage is: 45.0\n"
     ]
    }
   ],
   "source": [
    "# WAP to accept roll number , grade and percentage as input from the user and display it back\n",
    "r_no = int(input(\"Enter the roll no:\"))\n",
    "g = input(\"Enter the grade:\")\n",
    "p = float(input(\"Enter the percentage:\"))\n",
    "print(\"Roll no:\",r_no)\n",
    "print(\"Grade is:\",g)\n",
    "print(\"Percentage is:\",p)"
   ]
  },
  {
   "cell_type": "code",
   "execution_count": 11,
   "id": "3097f32e",
   "metadata": {},
   "outputs": [
    {
     "name": "stdout",
     "output_type": "stream",
     "text": [
      "Enter the name:Vikas prajapati\n",
      "Enter ur age:23\n",
      "U will  be 100yrs in: 2099\n"
     ]
    }
   ],
   "source": [
    "# Write a program that asks the user to enter his/her name and age. Print out a message , \n",
    "# displaying the user’s name along with the year in which they will turn 100 years old.\n",
    "n = input(\"Enter the name:\")\n",
    "age = int(input(\"Enter ur age:\"))\n",
    "total = (2022- age) + 100\n",
    "print(\"U will  be 100yrs in:\", total)"
   ]
  },
  {
   "cell_type": "code",
   "execution_count": 12,
   "id": "c25d2de6",
   "metadata": {},
   "outputs": [
    {
     "name": "stdout",
     "output_type": "stream",
     "text": [
      "2\n"
     ]
    },
    {
     "ename": "ValueError",
     "evalue": "not enough values to unpack (expected 2, got 1)",
     "output_type": "error",
     "traceback": [
      "\u001b[1;31m---------------------------------------------------------------------------\u001b[0m",
      "\u001b[1;31mValueError\u001b[0m                                Traceback (most recent call last)",
      "Cell \u001b[1;32mIn [12], line 2\u001b[0m\n\u001b[0;32m      1\u001b[0m \u001b[38;5;66;03m# Write a program that asks the user to input 2 integers and adds them . Accept both the numbers in a single line only\u001b[39;00m\n\u001b[1;32m----> 2\u001b[0m a, b \u001b[38;5;241m=\u001b[39m \u001b[38;5;28mmap\u001b[39m(\u001b[38;5;28mint\u001b[39m, \u001b[38;5;28minput\u001b[39m()\u001b[38;5;241m.\u001b[39msplit())\n",
      "\u001b[1;31mValueError\u001b[0m: not enough values to unpack (expected 2, got 1)"
     ]
    }
   ],
   "source": [
    "# Write a program that asks the user to input 2 integers and adds them . Accept both the numbers in a single line only\n",
    "a, b = map(int, input().split())\n"
   ]
  },
  {
   "cell_type": "code",
   "execution_count": 13,
   "id": "fcd2b0ed",
   "metadata": {},
   "outputs": [
    {
     "name": "stdout",
     "output_type": "stream",
     "text": [
      "Enter the first name:Vikas \n",
      "Enter the last name:Prajapati\n",
      "Reversed order of full name: itapajarP sakiV\n"
     ]
    }
   ],
   "source": [
    "# Write a Python program which accepts the user's first and last name and print them in reverse order with a space between them.\n",
    "f_name=input(\"Enter the first name:\")\n",
    "l_name=input(\"Enter the last name:\")\n",
    "name= f_name+ l_name\n",
    "rev_name = name[-1:-20:-1]\n",
    "print(\"Reversed order of full name:\", rev_name)"
   ]
  },
  {
   "cell_type": "code",
   "execution_count": 14,
   "id": "240cd853",
   "metadata": {},
   "outputs": [
    {
     "name": "stdout",
     "output_type": "stream",
     "text": [
      "Enter any numbers:5\n",
      "The Provided num is odd\n"
     ]
    }
   ],
   "source": [
    "# WAP to accept an integer from the user and check whether it is an even or odd \n",
    "num = int(input (\"Enter any numbers:\"))\n",
    "if (num % 2) == 0:\n",
    "    print (\"The provided num is even\")\n",
    "else:\n",
    "    print (\"The Provided num is odd\")\n",
    "    "
   ]
  },
  {
   "cell_type": "code",
   "execution_count": 15,
   "id": "59baff38",
   "metadata": {},
   "outputs": [
    {
     "name": "stdout",
     "output_type": "stream",
     "text": [
      "Enter any character: a\n",
      "Given characters is not capital leter\n"
     ]
    }
   ],
   "source": [
    "# WAP to accept a character from the user and check whether it is a capital letter or small letter.\n",
    "# Assume user will input only alphabets\n",
    "c = input(\"Enter any character: \")\n",
    "if c >= 'A' and c<= 'Z':\n",
    "    print(\"Given characters is capital leter\")\n",
    "else:\n",
    "    print(\"Given characters is not capital leter\")"
   ]
  },
  {
   "cell_type": "code",
   "execution_count": 16,
   "id": "bebf928b",
   "metadata": {},
   "outputs": [
    {
     "name": "stdout",
     "output_type": "stream",
     "text": [
      "Enter any character: )\n",
      "The given characters is special symbol\n"
     ]
    }
   ],
   "source": [
    "# WAP to accept a character from the user and check whether \n",
    "# it is a capital letter or small letter or a digit or some special symbol\n",
    "c = input(\"Enter any character: \")\n",
    "if c >= 'A' and c<= 'Z':\n",
    "    print(\"Given characters is capital leter\")\n",
    "elif c >= 'a' and c<= 'z':\n",
    "    print(\"Given characters is small leter\")\n",
    "elif c >= '0' and c<= '9':\n",
    "    print(\"The given characters is digit\")\n",
    "else:\n",
    "    print(\"The given characters is special symbol\")\n",
    "    \n",
    "    "
   ]
  },
  {
   "cell_type": "code",
   "execution_count": 17,
   "id": "c10613be",
   "metadata": {},
   "outputs": [],
   "source": [
    "# WAP to accept 3 integers from the user and without using any logical operator and cascading of relational operators , \n",
    "# find out the greatest number amongst them\n"
   ]
  },
  {
   "cell_type": "code",
   "execution_count": 24,
   "id": "2faf0f96",
   "metadata": {},
   "outputs": [
    {
     "name": "stdout",
     "output_type": "stream",
     "text": [
      "Enter any year: 2024\n",
      "The given year is Leap year\n"
     ]
    }
   ],
   "source": [
    "# WAP to accept a year from the user and check whether it is a leap year or not.\n",
    "year = int(input(\"Enter any year: \"))\n",
    "if year%4 == 0:\n",
    "    print(\"The given year is Leap year\")\n",
    "else:\n",
    "    print(\"The given year is not Leap year\")\n"
   ]
  },
  {
   "cell_type": "code",
   "execution_count": null,
   "id": "d0ff022f",
   "metadata": {},
   "outputs": [
    {
     "name": "stdout",
     "output_type": "stream",
     "text": [
      "21\n",
      "Guess the number : 0\n",
      "Number is too small\n"
     ]
    }
   ],
   "source": [
    "# You have to develop a number guessing game. Following are the steps needed:\n",
    "# At first , the program will generate a random integer secretly.\n",
    "import random\n",
    "\n",
    "r = random.randint(0,100)\n",
    "print(r)\n",
    "attempts = 0\n",
    "while True:\n",
    "    attempts += 1\n",
    "    Guess=int(input(\"Guess the number : \"))\n",
    "    if Guess>r:\n",
    "          print(\"Number too large\")\n",
    "      \n",
    "    elif Guess<r:\n",
    "          print(\"Number is too small\")\n",
    "    elif Guess == 0:\n",
    "          break\n",
    "    else:\n",
    "          print(\"Congratulations! You guessed it right\")\n",
    "\n",
    "            \n",
    "    \n",
    "            \n",
    "    "
   ]
  },
  {
   "cell_type": "code",
   "execution_count": null,
   "id": "7c95d625",
   "metadata": {},
   "outputs": [],
   "source": [
    "# Write a program to accept a string from the user and display it vertically but don’t display the vowels in it\n",
    "name = input(\"Enter any string: \")\n",
    "for name"
   ]
  },
  {
   "cell_type": "code",
   "execution_count": null,
   "id": "5aa48455",
   "metadata": {},
   "outputs": [],
   "source": [
    "# Write a program to continuously accept integers from the user until the user types 0 and as soon as 0 is entered \n",
    "# display sum of all the nos entered before 0\n",
    "\n"
   ]
  },
  {
   "cell_type": "code",
   "execution_count": 5,
   "id": "686a8c2d",
   "metadata": {},
   "outputs": [
    {
     "name": "stdout",
     "output_type": "stream",
     "text": [
      "Enter the strin u want: vikas\n",
      "\n",
      "Removing vowels from the given string\n",
      "New string after successfully removed all the vowels:\n",
      "v\n",
      "i\n",
      "k\n",
      "a\n",
      "s\n"
     ]
    }
   ],
   "source": [
    "# Write a program using a for loop to accept a string from the user and display it vertically but don’t display the vowels in it\n",
    "string = input(\"Enter the strin u want: \")\n",
    "if string == 'x':\n",
    "    exit();\n",
    "else:\n",
    "    newstr = string;\n",
    "    print(\"\\nRemoving vowels from the given string\")\n",
    "    vowels = ('a', 'e', 'i', 'o', 'u','A','E','I','O','U')\n",
    "    for x in string:\n",
    "        if x in vowels:\n",
    "            newstr = newstr.replace(x,\"\")\n",
    "    print(\"New string after successfully removed all the vowels:\")\n",
    "for x in string:\n",
    "    print(x)"
   ]
  },
  {
   "cell_type": "code",
   "execution_count": 9,
   "id": "3dac9a03",
   "metadata": {},
   "outputs": [
    {
     "name": "stdout",
     "output_type": "stream",
     "text": [
      "Enter the numbers123\n"
     ]
    },
    {
     "ename": "TypeError",
     "evalue": "'int' object is not iterable",
     "output_type": "error",
     "traceback": [
      "\u001b[1;31m---------------------------------------------------------------------------\u001b[0m",
      "\u001b[1;31mTypeError\u001b[0m                                 Traceback (most recent call last)",
      "Cell \u001b[1;32mIn [9], line 3\u001b[0m\n\u001b[0;32m      1\u001b[0m \u001b[38;5;66;03m# Write a program to accept an integer from the user and display the sum of all the numbers from 1 to that number\u001b[39;00m\n\u001b[0;32m      2\u001b[0m number \u001b[38;5;241m=\u001b[39m \u001b[38;5;28mint\u001b[39m(\u001b[38;5;28minput\u001b[39m(\u001b[38;5;124m\"\u001b[39m\u001b[38;5;124mEnter the numbers\u001b[39m\u001b[38;5;124m\"\u001b[39m))\n\u001b[1;32m----> 3\u001b[0m \u001b[38;5;28;01mfor\u001b[39;00m s \u001b[38;5;129;01min\u001b[39;00m number:\n\u001b[0;32m      4\u001b[0m     s \u001b[38;5;241m=\u001b[39m number\u001b[38;5;241m+\u001b[39m\u001b[38;5;241m1\u001b[39m\n\u001b[0;32m      5\u001b[0m     \u001b[38;5;28mprint\u001b[39m(s)\n",
      "\u001b[1;31mTypeError\u001b[0m: 'int' object is not iterable"
     ]
    }
   ],
   "source": [
    "# Write a program to accept an integer from the user and display the sum of all the numbers from 1 to that number\n",
    "number = int(input(\"Enter the numbers\"))\n",
    "for s in number:\n",
    "    s = number+1\n",
    "    print(s)"
   ]
  },
  {
   "cell_type": "code",
   "execution_count": null,
   "id": "4f5e5f9e",
   "metadata": {},
   "outputs": [],
   "source": []
  }
 ],
 "metadata": {
  "kernelspec": {
   "display_name": "Python 3 (ipykernel)",
   "language": "python",
   "name": "python3"
  },
  "language_info": {
   "codemirror_mode": {
    "name": "ipython",
    "version": 3
   },
   "file_extension": ".py",
   "mimetype": "text/x-python",
   "name": "python",
   "nbconvert_exporter": "python",
   "pygments_lexer": "ipython3",
   "version": "3.10.7"
  }
 },
 "nbformat": 4,
 "nbformat_minor": 5
}
