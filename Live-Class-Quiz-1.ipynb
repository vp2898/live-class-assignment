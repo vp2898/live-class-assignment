{
 "cells": [
  {
   "cell_type": "markdown",
   "id": "64d363e9",
   "metadata": {},
   "source": [
    "***Live Class Quiz-1***"
   ]
  },
  {
   "cell_type": "markdown",
   "id": "87863ea0",
   "metadata": {},
   "source": [
    "Q1 WAP to accept two numbers from the user and display their sum?"
   ]
  },
  {
   "cell_type": "code",
   "execution_count": null,
   "id": "b7ccfe28",
   "metadata": {},
   "outputs": [],
   "source": [
    "#Sollution:\n",
    "a = input(\"enter first num:\")\n",
    "b = input(\"enter second num:\")\n",
    "total = int(a)+int(b)\n",
    "print(\"Total numbr is:\",total)"
   ]
  },
  {
   "cell_type": "markdown",
   "id": "0282c0f7",
   "metadata": {},
   "source": [
    "Q2 WAP to accept radius of a Circle from the user and calculate area and circumference?"
   ]
  },
  {
   "cell_type": "code",
   "execution_count": null,
   "id": "d4def850",
   "metadata": {},
   "outputs": [],
   "source": [
    "#Sollution:\n",
    "radius=float(input(\"Enter radius of circle: \"))\n",
    "circle_area=3.14*radius*radius\n",
    "circle_circumference=2*3.14*radius\n",
    "print(\"Area of circle is {:0.2f} and circumference is {:0.2f}.\".format(circle_area,circle_circumference))"
   ]
  },
  {
   "cell_type": "markdown",
   "id": "01dfe1eb",
   "metadata": {},
   "source": [
    "Q3 WAP to accept roll number , grade and percentage as input from the user and display it back"
   ]
  },
  {
   "cell_type": "code",
   "execution_count": null,
   "id": "dfde8944",
   "metadata": {},
   "outputs": [],
   "source": [
    "#Sollution:+\n",
    "+\n",
    "r_no = int(input(\"Enter the roll no:\"))\n",
    "g = input(\"Enter the grade:\")\n",
    "p = float(input(\"Enter the percentage:\"))\n",
    "print(\"Roll no:\",r_no)\n",
    "print(\"Grade is:\",g)\n",
    "print(\"Percentage is:\",p)"
   ]
  },
  {
   "cell_type": "markdown",
   "id": "f468b72d",
   "metadata": {},
   "source": [
    "Q4 Write a program that asks the user to enter his/her name and age. Print out a message , \n",
    " displaying the user’s name along with the year in which they will turn 100 years old."
   ]
  },
  {
   "cell_type": "code",
   "execution_count": null,
   "id": "3097f32e",
   "metadata": {},
   "outputs": [],
   "source": [
    "#Sollution:\n",
    "n = input(\"Enter the name:\")\n",
    "age = int(input(\"Enter ur age:\"))\n",
    "total = (2022- age) + 100\n",
    "print(\"U will  be 100yrs in:\", total)"
   ]
  },
  {
   "cell_type": "markdown",
   "id": "d63c0c9f",
   "metadata": {},
   "source": [
    "Q5 Write a program that asks the user to input 2 integers and adds them . Accept both the numbers in a single line only"
   ]
  },
  {
   "cell_type": "code",
   "execution_count": null,
   "id": "c25d2de6",
   "metadata": {},
   "outputs": [],
   "source": [
    "#Sollution:\n",
    "num1,num2 = input(\"Enter first number and second number: \").split()\n",
    "total = int(num1) + int(num2)\n",
    "print(\"Sum is: \", total)"
   ]
  },
  {
   "cell_type": "markdown",
   "id": "00d03673",
   "metadata": {},
   "source": [
    "Q6 Write a Python program which accepts the user's first and last name\n",
    "and print them in reverse order with a space between them."
   ]
  },
  {
   "cell_type": "code",
   "execution_count": null,
   "id": "fcd2b0ed",
   "metadata": {},
   "outputs": [],
   "source": [
    "#Sollution:\n",
    "f_name=input(\"Enter the first name:\")\n",
    "l_name=input(\"Enter the last name:\")\n",
    "name= f_name+ l_name\n",
    "rev_name = name[-1:-20:-1]\n",
    "print(\"Reversed order of full name:\", rev_name)"
   ]
  },
  {
   "cell_type": "markdown",
   "id": "5e8548d7",
   "metadata": {},
   "source": [
    "Q7 WAP to accept an integer from the user and check whether it is an even or odd?"
   ]
  },
  {
   "cell_type": "code",
   "execution_count": null,
   "id": "240cd853",
   "metadata": {},
   "outputs": [],
   "source": [
    "#Sollution: \n",
    "num = int(input (\"Enter any numbers:\"))\n",
    "if (num % 2) == 0:\n",
    "    print (\"The provided num is even\")\n",
    "else:\n",
    "    print (\"The Provided num is odd\")\n",
    "    "
   ]
  },
  {
   "cell_type": "markdown",
   "id": "826f531c",
   "metadata": {},
   "source": [
    "Q8 WAP to accept a character from the user and check whether it is a capital letter or small letter.\n",
    "Assume user will input only alphabets"
   ]
  },
  {
   "cell_type": "code",
   "execution_count": null,
   "id": "59baff38",
   "metadata": {},
   "outputs": [],
   "source": [
    "#Sollution:\n",
    "c = input(\"Enter any character: \")\n",
    "if c >= 'A' and c<= 'Z':\n",
    "    print(\"Given characters is capital leter\")\n",
    "else:\n",
    "    print(\"Given characters is not capital leter\")"
   ]
  },
  {
   "cell_type": "markdown",
   "id": "b4c49036",
   "metadata": {},
   "source": [
    "Q9 WAP to accept a character from the user and check whether \n",
    "it is a capital letter or small letter or a digit or some special symbol"
   ]
  },
  {
   "cell_type": "code",
   "execution_count": null,
   "id": "bebf928b",
   "metadata": {},
   "outputs": [],
   "source": [
    "#Sollution:\n",
    "c = input(\"Enter any character: \")\n",
    "if c >= 'A' and c<= 'Z':\n",
    "    print(\"Given characters is capital leter\")\n",
    "elif c >= 'a' and c<= 'z':\n",
    "    print(\"Given characters is small leter\")\n",
    "elif c >= '0' and c<= '9':\n",
    "    print(\"The given characters is digit\")\n",
    "else:\n",
    "    print(\"The given characters is special symbol\")\n",
    "    \n",
    "    "
   ]
  },
  {
   "cell_type": "markdown",
   "id": "f85eee94",
   "metadata": {},
   "source": [
    "Q10 WAP to accept 3 integers from the user and without using any logical operator and cascading of relational operators , \n",
    "find out the greatest number amongst them"
   ]
  },
  {
   "cell_type": "code",
   "execution_count": null,
   "id": "c10613be",
   "metadata": {},
   "outputs": [],
   "source": [
    "#Sollution:\n",
    "a=int(input(\"Enter first number : \"))\n",
    "b=int(input(\"Enter second number : \"))\n",
    "c=int(input(\"Enter third number : \"))\n",
    "print(f\"The graetest number is {max(a,b,c)}.\")"
   ]
  },
  {
   "cell_type": "markdown",
   "id": "36af1912",
   "metadata": {},
   "source": [
    "Q11 WAP to accept a year from the user and check whether it is a leap year or not?"
   ]
  },
  {
   "cell_type": "code",
   "execution_count": null,
   "id": "2faf0f96",
   "metadata": {},
   "outputs": [],
   "source": [
    "#Sollution:\n",
    "year = int(input(\"Enter any year: \"))\n",
    "if year%4 == 0:\n",
    "    print(\"The given year is Leap year\")\n",
    "else:\n",
    "    print(\"The given year is not Leap year\")\n"
   ]
  },
  {
   "cell_type": "markdown",
   "id": "8781645f",
   "metadata": {},
   "source": [
    "Q12 You have to develop a number guessing game. Following are the steps needed:\n",
    "At first , the program will generate a random integer secretly."
   ]
  },
  {
   "cell_type": "code",
   "execution_count": null,
   "id": "d0ff022f",
   "metadata": {},
   "outputs": [],
   "source": [
    "#Sollution:\n",
    "import random\n",
    "\n",
    "r = random.randint(0,100)\n",
    "print(r)\n",
    "attempts = 0\n",
    "while True:\n",
    "    attempts += 1\n",
    "    Guess=int(input(\"Guess the number : \"))\n",
    "    if Guess>r:\n",
    "          print(\"Number too large\")\n",
    "      \n",
    "    elif Guess<r:\n",
    "          print(\"Number is too small\")\n",
    "    elif Guess == 0:\n",
    "          break\n",
    "    else:\n",
    "          print(\"Congratulations! You guessed it right\")\n",
    "            "
   ]
  },
  {
   "cell_type": "markdown",
   "id": "c41e28cb",
   "metadata": {},
   "source": [
    "Q13 Write a program to accept a string from the user and display it vertically but don’t display the vowels in it?"
   ]
  },
  {
   "cell_type": "code",
   "execution_count": null,
   "id": "7c95d625",
   "metadata": {},
   "outputs": [],
   "source": [
    "#Sollution:\n",
    "string=input(\"Enter a string : \")\n",
    "l=['a','e','i','o','u','A','E','I','O','U']\n",
    "for i in string:\n",
    "    if i not in l:\n",
    "        print(i)"
   ]
  },
  {
   "cell_type": "markdown",
   "id": "7c756226",
   "metadata": {},
   "source": [
    "Q14 Write a program to continuously accept integers from the user until the user types 0 and as soon as 0 is entered \n",
    "display sum of all the nos entered before 0\n",
    "\n",
    " "
   ]
  },
  {
   "cell_type": "code",
   "execution_count": null,
   "id": "0c82ab26",
   "metadata": {},
   "outputs": [],
   "source": [
    "# Sollution:\n",
    "sum=0\n",
    "while True:\n",
    "    num=int(input(\"Enter the number : \"))\n",
    "    if num==0:\n",
    "        break\n",
    "    sum=sum+num\n",
    "print(f\"Sum of all entered numbers is {sum}.\")\n"
   ]
  },
  {
   "cell_type": "markdown",
   "id": "dfd066bb",
   "metadata": {},
   "source": [
    "Q15 Write a program using a for loop to accept a string from the user \n",
    "and display it vertically but don’t display the vowels in it\n"
   ]
  },
  {
   "cell_type": "code",
   "execution_count": null,
   "id": "686a8c2d",
   "metadata": {},
   "outputs": [],
   "source": [
    "#Sollution:\n",
    "string=input(\"Enter a string : \")\n",
    "l=['a','e','i','o','u','A','E','I','O','U']\n",
    "for i in string:\n",
    "    if i not in l:\n",
    "        print(i)"
   ]
  },
  {
   "cell_type": "markdown",
   "id": "e8772c4d",
   "metadata": {},
   "source": [
    "Q16 Write a program to accept an integer from the user and display the sum of all the numbers from 1 to that number"
   ]
  },
  {
   "cell_type": "code",
   "execution_count": null,
   "id": "3dac9a03",
   "metadata": {},
   "outputs": [],
   "source": [
    "#Sollution:\n",
    "num=int(input(\"Enter the integer number : \"))\n",
    "sum=0\n",
    "for i in range(1,num+1):\n",
    "    sum=sum+i\n",
    "print(f\"Sum of all the numbers from 1 to {num} is {sum}.\"))"
   ]
  },
  {
   "cell_type": "markdown",
   "id": "a8a53df2",
   "metadata": {},
   "source": [
    "Q17 Write a program to accept an integer from the user and calculate its factorial"
   ]
  },
  {
   "cell_type": "code",
   "execution_count": null,
   "id": "4f5e5f9e",
   "metadata": {},
   "outputs": [],
   "source": [
    "#Sollution:\n",
    "n=int(input(\"Enter the number : \"))\n",
    "fact=1\n",
    "if n<0:\n",
    "    print(\"Not Exist.\")\n",
    "elif n==0:\n",
    "    print(\"Factorial of 0 is 1.\")\n",
    "else:\n",
    "    for i in range(1,n+1):\n",
    "        fact=fact*i\n",
    "print(f\"Factorial of {n} is {fact}.\")"
   ]
  },
  {
   "cell_type": "markdown",
   "id": "4cf41b0d",
   "metadata": {},
   "source": [
    "Q18 Write a program to print the following pattern \n",
    " \n",
    "<!--\n",
    " ***\n",
    " ***\n",
    " ***\n",
    " *** -->"
   ]
  },
  {
   "cell_type": "code",
   "execution_count": null,
   "id": "b1a5f0aa",
   "metadata": {},
   "outputs": [],
   "source": [
    "# ***\n",
    "# ***\n",
    "# ***\n",
    "# ***\n",
    "# Sollution:\n",
    "rows = int(input(\"Enter number of rows: \"))\n",
    "for i in range(rows):\n",
    "    for j in range(rows):\n",
    "        print(\"* \", end=\"\")\n",
    "    print(\"\\n\")"
   ]
  },
  {
   "cell_type": "markdown",
   "id": "eb3f2414",
   "metadata": {},
   "source": [
    "Q19 Write a program to print the following pattern"
   ]
  },
  {
   "cell_type": "code",
   "execution_count": null,
   "id": "194c9260",
   "metadata": {},
   "outputs": [],
   "source": [
    "# *\n",
    "# **\n",
    "# ***\n",
    "# ****\n",
    "# Sollution:\n",
    "rows = int(input(\"Enter number of rows: \"))\n",
    "\n",
    "for i in range(rows):\n",
    "    for j in range(i+1):\n",
    "        print(\"* \", end=\"\")\n",
    "    print(\"\\n\")"
   ]
  },
  {
   "cell_type": "markdown",
   "id": "f2e2a67e",
   "metadata": {},
   "source": [
    "Q20 Write a program to print the following pattern"
   ]
  },
  {
   "cell_type": "code",
   "execution_count": null,
   "id": "bc1732b4",
   "metadata": {},
   "outputs": [],
   "source": [
    "# ****\n",
    "# ***\n",
    "# **\n",
    "# *\n",
    "# Sollution:\n",
    "rows = int(input(\"Enter number of rows: \"))\n",
    "\n",
    "for k in range(rows, 0, -1):\n",
    "\n",
    "    for m in range(0, k):\n",
    "\n",
    "        print(\"*\", end=' ')\n",
    "\n",
    "    print(\"\\r\")"
   ]
  },
  {
   "cell_type": "markdown",
   "id": "5e577147",
   "metadata": {},
   "source": [
    "Q21 Write a program to accept an integer from the user and display all the numbers from 1 to that number. \n",
    "Repeat the process until the user enters 0."
   ]
  },
  {
   "cell_type": "code",
   "execution_count": null,
   "id": "5a4d3842",
   "metadata": {},
   "outputs": [],
   "source": [
    "#Sollution:\n",
    "num=1\n",
    "for i in range(0,num):\n",
    "    num=int(input(\"Enter the integer number : \"))\n",
    "    for j in range(1,num+1):\n",
    "        print(j)\n",
    "    "
   ]
  },
  {
   "cell_type": "code",
   "execution_count": null,
   "id": "ef7ea5f4",
   "metadata": {},
   "outputs": [],
   "source": []
  }
 ],
 "metadata": {
  "kernelspec": {
   "display_name": "Python 3 (ipykernel)",
   "language": "python",
   "name": "python3"
  },
  "language_info": {
   "codemirror_mode": {
    "name": "ipython",
    "version": 3
   },
   "file_extension": ".py",
   "mimetype": "text/x-python",
   "name": "python",
   "nbconvert_exporter": "python",
   "pygments_lexer": "ipython3",
   "version": "3.10.7"
  }
 },
 "nbformat": 4,
 "nbformat_minor": 5
}
